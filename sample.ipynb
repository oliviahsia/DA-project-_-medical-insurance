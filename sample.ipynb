{
 "cells": [
  {
   "cell_type": "markdown",
   "source": [
    "# U.S. Medical Insurance with Codecademy\n",
    " "
   ],
   "metadata": {
    "collapsed": false
   },
   "id": "33361f65980c0072"
  },
  {
   "cell_type": "markdown",
   "source": [
    "#### In this project, I learn to import the CSV file and select the data for any list. I follow the example from the website including the data set up and the first 5 questions. After that, I create my few analyses with the visualization report.  "
   ],
   "metadata": {
    "collapsed": false
   },
   "id": "f63fd7fe87baec49"
  },
  {
   "cell_type": "code",
   "outputs": [],
   "source": [
    "import csv"
   ],
   "metadata": {
    "collapsed": false,
    "ExecuteTime": {
     "end_time": "2024-01-10T09:23:19.110220Z",
     "start_time": "2024-01-10T09:23:19.109100Z"
    }
   },
   "id": "e311581e142cc7c8",
   "execution_count": 3
  }
 ],
 "metadata": {
  "kernelspec": {
   "display_name": "Python 3",
   "language": "python",
   "name": "python3"
  },
  "language_info": {
   "codemirror_mode": {
    "name": "ipython",
    "version": 2
   },
   "file_extension": ".py",
   "mimetype": "text/x-python",
   "name": "python",
   "nbconvert_exporter": "python",
   "pygments_lexer": "ipython2",
   "version": "2.7.6"
  }
 },
 "nbformat": 4,
 "nbformat_minor": 5
}
